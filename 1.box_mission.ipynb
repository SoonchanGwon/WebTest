{
 "cells": [
  {
   "cell_type": "code",
   "execution_count": 1,
   "metadata": {},
   "outputs": [
    {
     "name": "stdout",
     "output_type": "stream",
     "text": [
      "Sending message: command\n",
      "Received message: ok\n",
      "Sending message: takeoff\n",
      "Sending message: forward 50\n",
      "Received message: ok\n",
      "Received message: ok\n",
      "Sending message: cw 90\n",
      "Received message: ok\n",
      "Sending message: forward 50\n",
      "Received message: ok\n",
      "Sending message: cw 90\n",
      "Received message: ok\n",
      "Sending message: forward 50\n",
      "Received message: ok\n",
      "Sending message: cw 90\n",
      "Received message: ok\n",
      "Sending message: forward 50\n",
      "Received message: ok\n",
      "Sending message: cw 90\n",
      "Received message: ok\n",
      "Sending message: land\n",
      "Received message: ok\n",
      "Mission completed successfully!\n",
      "Error receiving: [WinError 10038] 소켓 이외의 개체에 작업을 시도했습니다\n"
     ]
    }
   ],
   "source": [
    "import socket\n",
    "import threading\n",
    "import time\n",
    "\n",
    "tello_address = ('192.168.10.1', 8889)\n",
    "local_address = ('', 9000)\n",
    "\n",
    "sock = socket.socket(socket.AF_INET, socket.SOCK_DGRAM)\n",
    "sock.bind(local_address)\n",
    "\n",
    "def send(message, delay):\n",
    "  try:\n",
    "    sock.sendto(message.encode(), tello_address)\n",
    "    print(\"Sending message: \" + message)\n",
    "  except Exception as e:\n",
    "    print(\"Error sending: \" + str(e))\n",
    "\n",
    "  time.sleep(delay)\n",
    "\n",
    "def receive():\n",
    "  while True:\n",
    "    try:\n",
    "      response, ip_address = sock.recvfrom(128)\n",
    "      print(\"Received message: \" + response.decode(encoding='utf-8'))\n",
    "    except Exception as e:\n",
    "      sock.close()\n",
    "      print(\"Error receiving: \" + str(e))\n",
    "      break\n",
    "\n",
    "receiveThread = threading.Thread(target=receive)\n",
    "receiveThread.daemon = True\n",
    "receiveThread.start()\n",
    "\n",
    "box_leg_distance = 100\n",
    "yaw_angle = 90\n",
    "yaw_direction = \"cw\"\n",
    "\n",
    "## 여기서 부터 조종 명령들\n",
    "send(\"command\", 3)\n",
    "send(\"takeoff\", 5)\n",
    "send(\"forward 50\", 4)\n",
    "send(\"cw 90\", 3)\n",
    "send(\"forward 50\", 5)\n",
    "send(\"cw 90\", 3)\n",
    "send(\"forward 50\", 4)\n",
    "send(\"cw 90\", 3)\n",
    "send(\"forward 50\", 4)\n",
    "send(\"cw 90\", 3)\n",
    "send(\"land\", 5)\n",
    "print(\"Mission completed successfully!\")\n",
    "## 여기까지 조종 명령들\n",
    "\n",
    "sock.close()\n"
   ]
  },
  {
   "cell_type": "code",
   "execution_count": null,
   "metadata": {},
   "outputs": [],
   "source": []
  }
 ],
 "metadata": {
  "kernelspec": {
   "display_name": "Python 3",
   "language": "python",
   "name": "python3"
  },
  "language_info": {
   "codemirror_mode": {
    "name": "ipython",
    "version": 3
   },
   "file_extension": ".py",
   "mimetype": "text/x-python",
   "name": "python",
   "nbconvert_exporter": "python",
   "pygments_lexer": "ipython3",
   "version": "3.7.7"
  }
 },
 "nbformat": 4,
 "nbformat_minor": 4
}
