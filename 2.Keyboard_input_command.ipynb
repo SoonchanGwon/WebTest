{
 "cells": [
  {
   "cell_type": "code",
   "execution_count": 1,
   "metadata": {},
   "outputs": [
    {
     "name": "stdout",
     "output_type": "stream",
     "text": [
      "Type in a Tello SDK command and press the enter key. Enter \"quit\" to exit this program.\n",
      "command\n",
      "Sending message: command\n",
      "takeoff\n",
      "Sending message: takeoff\n",
      "forward 50\n",
      "Sending message: forward 50\n",
      "forward 50\n",
      "Sending message: forward 50\n",
      "flip x\n",
      "Sending message: flip x\n",
      "flip x\n",
      "Sending message: flip x\n",
      "takeoff\n",
      "Sending message: takeoff\n",
      "flip l\n",
      "Sending message: flip l\n",
      "right 50\n",
      "Sending message: right 50\n",
      "up 50\n",
      "Sending message: up 50\n",
      "flip r\n",
      "Sending message: flip r\n",
      "land\n",
      "Sending message: land\n",
      "quit\n",
      "Program exited sucessfully\n",
      "Error receiving: [WinError 10038] 소켓 이외의 개체에 작업을 시도했습니다\n"
     ]
    }
   ],
   "source": [
    "import socket\n",
    "import threading\n",
    "import time\n",
    "import sys\n",
    "\n",
    "tello_address = ('192.168.10.1', 8889)\n",
    "local_address = ('', 9000)\n",
    "\n",
    "sock = socket.socket(socket.AF_INET, socket.SOCK_DGRAM)\n",
    "\n",
    "sock.bind(local_address)\n",
    "\n",
    "def send(message):\n",
    "  try:\n",
    "    sock.sendto(message.encode(), tello_address)\n",
    "    print(\"Sending message: \" + message)\n",
    "  except Exception as e:\n",
    "    print(\"Error sending: \" + str(e))\n",
    "\n",
    "def receive():\n",
    "  while True:\n",
    "    try:\n",
    "      response, ip_address = sock.recvfrom(128)\n",
    "      print(\"Received message: \" + response.decode(encoding='utf-8'))\n",
    "    except Exception as e:\n",
    "      sock.close()\n",
    "      print(\"Error receiving: \" + str(e))\n",
    "      break\n",
    "\n",
    "receiveThread = threading.Thread(target=receive)\n",
    "receiveThread.daemon = True\n",
    "receiveThread.start()\n",
    "\n",
    "print('Type in a Tello SDK command and press the enter key. Enter \"quit\" to exit this program.')\n",
    "while True:\n",
    "\n",
    "  try:\n",
    "    if (sys.version_info > (3, 0)):\n",
    "      message = input('')\n",
    "    else:\n",
    "      message = raw_input('')\n",
    "\n",
    "    if 'quit' in message:\n",
    "      print(\"Program exited sucessfully\")\n",
    "      sock.close()\n",
    "      break\n",
    "\n",
    "    send(message)\n",
    "\n",
    "  except KeyboardInterrupt as e:\n",
    "    sock.close()\n",
    "    break\n"
   ]
  },
  {
   "cell_type": "code",
   "execution_count": null,
   "metadata": {},
   "outputs": [],
   "source": []
  }
 ],
 "metadata": {
  "kernelspec": {
   "display_name": "Python 3",
   "language": "python",
   "name": "python3"
  },
  "language_info": {
   "codemirror_mode": {
    "name": "ipython",
    "version": 3
   },
   "file_extension": ".py",
   "mimetype": "text/x-python",
   "name": "python",
   "nbconvert_exporter": "python",
   "pygments_lexer": "ipython3",
   "version": "3.7.9"
  }
 },
 "nbformat": 4,
 "nbformat_minor": 4
}
